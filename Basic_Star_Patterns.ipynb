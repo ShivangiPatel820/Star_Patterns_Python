{
  "nbformat": 4,
  "nbformat_minor": 0,
  "metadata": {
    "colab": {
      "provenance": []
    },
    "kernelspec": {
      "name": "python3",
      "display_name": "Python 3"
    },
    "language_info": {
      "name": "python"
    },
    "accelerator": "GPU",
    "gpuClass": "standard"
  },
  "cells": [
    {
      "cell_type": "markdown",
      "source": [
        "**Square** **Pattern**"
      ],
      "metadata": {
        "id": "SHDec87CySeg"
      }
    },
    {
      "cell_type": "code",
      "source": [
        "n=4\n",
        "print(\"Square pattern:\\n\")\n",
        "for i in range(n):\n",
        "  for j in range(n):\n",
        "    print(\"*\",end=' ')\n",
        "  print()"
      ],
      "metadata": {
        "colab": {
          "base_uri": "https://localhost:8080/"
        },
        "id": "PAYtCGzNykxF",
        "outputId": "376f1cdb-0d18-4c21-d179-a622489ccac1"
      },
      "execution_count": 7,
      "outputs": [
        {
          "output_type": "stream",
          "name": "stdout",
          "text": [
            "Square pattern:\n",
            "\n",
            "* * * * \n",
            "* * * * \n",
            "* * * * \n",
            "* * * * \n"
          ]
        }
      ]
    },
    {
      "cell_type": "markdown",
      "source": [
        "**Increasing Triangle Pattern**"
      ],
      "metadata": {
        "id": "HgspDrQazgl9"
      }
    },
    {
      "cell_type": "code",
      "source": [
        "print(\"Increasing Triangle pattern:\\n\")\n",
        "for i in range(n):\n",
        "  for j in range(i+1):\n",
        "    print(\"*\",end=' ')\n",
        "  print()"
      ],
      "metadata": {
        "colab": {
          "base_uri": "https://localhost:8080/"
        },
        "id": "-J8yGVfezldG",
        "outputId": "290a5ed2-8fc5-4658-b6a6-13115bda3bbc"
      },
      "execution_count": 6,
      "outputs": [
        {
          "output_type": "stream",
          "name": "stdout",
          "text": [
            "Increasing Triangle pattern:\n",
            "\n",
            "* \n",
            "* * \n",
            "* * * \n",
            "* * * * \n"
          ]
        }
      ]
    },
    {
      "cell_type": "markdown",
      "source": [
        "**Decreasing Triangle Pattern**"
      ],
      "metadata": {
        "id": "-p69si370BFn"
      }
    },
    {
      "cell_type": "code",
      "source": [
        "print(\"Decreasing Triangle pattern:\\n\")\n",
        "for i in range(n):\n",
        "  for j in range(i,n):\n",
        "    print(\"*\",end=' ')\n",
        "  print()"
      ],
      "metadata": {
        "colab": {
          "base_uri": "https://localhost:8080/"
        },
        "id": "DzBxrzG3zf6H",
        "outputId": "407d2f6c-6697-405b-f702-77afbdf2ec60"
      },
      "execution_count": 8,
      "outputs": [
        {
          "output_type": "stream",
          "name": "stdout",
          "text": [
            "Decreasing Triangle pattern:\n",
            "\n",
            "* * * * \n",
            "* * * \n",
            "* * \n",
            "* \n"
          ]
        }
      ]
    }
  ]
}