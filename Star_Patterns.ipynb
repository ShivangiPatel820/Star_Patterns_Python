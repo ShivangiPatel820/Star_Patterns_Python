{
  "nbformat": 4,
  "nbformat_minor": 0,
  "metadata": {
    "colab": {
      "provenance": []
    },
    "kernelspec": {
      "name": "python3",
      "display_name": "Python 3"
    },
    "language_info": {
      "name": "python"
    }
  },
  "cells": [
    {
      "cell_type": "code",
      "source": [
        "''' Below code to print:\n",
        "      *\n",
        "    * *\n",
        "  * * *\n",
        "* * * * '''"
      ],
      "metadata": {
        "id": "bfVt4w4IHvLh"
      },
      "execution_count": null,
      "outputs": []
    },
    {
      "cell_type": "markdown",
      "source": [
        "This pattern is combination of:\n",
        "\n",
        "*   one decreasing triangle with space\n",
        "*   one increasing triangle with star\n",
        "\n"
      ],
      "metadata": {
        "id": "PdCbUCVkH8rh"
      }
    },
    {
      "cell_type": "code",
      "execution_count": 2,
      "metadata": {
        "colab": {
          "base_uri": "https://localhost:8080/"
        },
        "id": "RFmGRV25B90S",
        "outputId": "e71f34ec-1bb7-4e2f-bb65-1e24902e9bf8"
      },
      "outputs": [
        {
          "output_type": "stream",
          "name": "stdout",
          "text": [
            "        * \n",
            "      * * \n",
            "    * * * \n",
            "  * * * * \n"
          ]
        }
      ],
      "source": [
        "n=4\n",
        "for i in range(n):\n",
        "  for j in range(i,n):\n",
        "    print(\" \",end=' ')\n",
        "  for j in range(i+1):\n",
        "    print(\"*\",end=' ')\n",
        "  print()"
      ]
    },
    {
      "cell_type": "code",
      "source": [
        "''' Below code to print:\n",
        "* * * *\n",
        "  * * *\n",
        "    * *\n",
        "      * '''"
      ],
      "metadata": {
        "id": "Iecj9mguITyx"
      },
      "execution_count": null,
      "outputs": []
    },
    {
      "cell_type": "markdown",
      "source": [
        "This pattern is combination of:\n",
        "\n",
        "*   one increasing triangle with space\n",
        "*   one decreasing triangle with star\n",
        "\n"
      ],
      "metadata": {
        "id": "mV_AXjjnIrQw"
      }
    },
    {
      "cell_type": "code",
      "source": [
        "n=4\n",
        "for i in range(n):\n",
        "  for j in range(i+1):\n",
        "    print(\" \",end=' ')\n",
        "  for j in range(i,n):\n",
        "    print(\"*\",end=' ')\n",
        "  print()"
      ],
      "metadata": {
        "colab": {
          "base_uri": "https://localhost:8080/"
        },
        "id": "7tNoAOuRIhTt",
        "outputId": "0052d89c-918d-4557-830e-646ed9785799"
      },
      "execution_count": 3,
      "outputs": [
        {
          "output_type": "stream",
          "name": "stdout",
          "text": [
            "  * * * * \n",
            "    * * * \n",
            "      * * \n",
            "        * \n"
          ]
        }
      ]
    },
    {
      "cell_type": "markdown",
      "source": [
        "**Hill Pattern**"
      ],
      "metadata": {
        "id": "AaBWpbFtJIsA"
      }
    },
    {
      "cell_type": "markdown",
      "source": [
        "This pattern is combination of:\n",
        "\n",
        "*   one decreasing triangle with space\n",
        "*   one increasing triangle with star\n",
        "*   one increasing triangle with star\n",
        "\n",
        "\n",
        "\n",
        "\n"
      ],
      "metadata": {
        "id": "mCBaz-QkJkN2"
      }
    },
    {
      "cell_type": "code",
      "source": [
        "n=4\n",
        "for i in range(n):\n",
        "  for j in range(i,n):\n",
        "    print(\" \",end=' ')\n",
        "  for j in range(i):    #Here only i because we want to print top most single star\n",
        "    print(\"*\",end=' ')\n",
        "  for j in range(i+1):\n",
        "    print(\"*\",end=' ')\n",
        "  print()"
      ],
      "metadata": {
        "colab": {
          "base_uri": "https://localhost:8080/"
        },
        "id": "RIIQK2TZJMZf",
        "outputId": "544d1b80-34c2-4449-a921-6dea056829f5"
      },
      "execution_count": 8,
      "outputs": [
        {
          "output_type": "stream",
          "name": "stdout",
          "text": [
            "        * \n",
            "      * * * \n",
            "    * * * * * \n",
            "  * * * * * * * \n"
          ]
        }
      ]
    },
    {
      "cell_type": "markdown",
      "source": [
        "**Reverse Hill Pattern**"
      ],
      "metadata": {
        "id": "AMG4OomlKm31"
      }
    },
    {
      "cell_type": "markdown",
      "source": [
        "This pattern is combination of:\n",
        "\n",
        "\n",
        "*   one increasing triangle with space\n",
        "*   one decreasing triangle with star\n",
        "*   one decreasing triangle with star\n",
        "\n",
        "\n",
        "\n",
        "\n",
        "\n",
        "\n",
        "\n",
        "\n"
      ],
      "metadata": {
        "id": "LUUTJpMVM8kp"
      }
    },
    {
      "cell_type": "code",
      "source": [
        "n=4\n",
        "for i in range(n):\n",
        "  for j in range(i+1):\n",
        "    print(\" \",end=' ')\n",
        "  for j in range(i,n-1):    #Here n-1 because we want to print single star at bottom row\n",
        "    print(\"*\",end=' ')\n",
        "  for j in range(i,n):\n",
        "    print(\"*\",end=' ')\n",
        "  print()"
      ],
      "metadata": {
        "colab": {
          "base_uri": "https://localhost:8080/"
        },
        "id": "bWnE6nXYKq6v",
        "outputId": "5291b1b1-fb95-415b-cf78-978fc9529a7d"
      },
      "execution_count": 10,
      "outputs": [
        {
          "output_type": "stream",
          "name": "stdout",
          "text": [
            "  * * * * * * * \n",
            "    * * * * * \n",
            "      * * * \n",
            "        * \n"
          ]
        }
      ]
    },
    {
      "cell_type": "markdown",
      "source": [
        "**Diamond Pattern**"
      ],
      "metadata": {
        "id": "qhyEe0hsNWYO"
      }
    },
    {
      "cell_type": "markdown",
      "source": [
        "This pattern is combination of:\n",
        "\n",
        "*   Hill pattern\n",
        "*   Reverse Hill pattern\n"
      ],
      "metadata": {
        "id": "Yrs2S5wlNtgm"
      }
    },
    {
      "cell_type": "code",
      "source": [
        "n=4\n",
        "#For Hill\n",
        "for i in range(n-1):     #Here i upto n-1 to print single middle line star inplace of two\n",
        "  for j in range(i,n):\n",
        "    print(\" \",end=' ')\n",
        "  for j in range(i):\n",
        "    print(\"*\",end=' ')\n",
        "  for j in range(i+1):\n",
        "    print(\"*\",end=' ')\n",
        "  print()\n",
        "\n",
        "#For Reverse Hill\n",
        "for i in range(n):\n",
        "  for j in range(i+1):\n",
        "    print(\" \",end=' ')\n",
        "  for j in range(i,n-1):\n",
        "    print(\"*\",end=' ')\n",
        "  for j in range(i,n):\n",
        "    print(\"*\",end=' ')\n",
        "  print()"
      ],
      "metadata": {
        "colab": {
          "base_uri": "https://localhost:8080/"
        },
        "id": "LLLxVk20NSx5",
        "outputId": "76d4722d-3e1b-4766-c9bf-6783fdf0aa55"
      },
      "execution_count": 12,
      "outputs": [
        {
          "output_type": "stream",
          "name": "stdout",
          "text": [
            "        * \n",
            "      * * * \n",
            "    * * * * * \n",
            "  * * * * * * * \n",
            "    * * * * * \n",
            "      * * * \n",
            "        * \n"
          ]
        }
      ]
    }
  ]
}